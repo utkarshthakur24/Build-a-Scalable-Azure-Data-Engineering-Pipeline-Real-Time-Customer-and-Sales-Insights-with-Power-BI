{
 "cells": [
  {
   "cell_type": "code",
   "execution_count": 0,
   "metadata": {
    "application/vnd.databricks.v1+cell": {
     "cellMetadata": {
      "byteLimit": 2048000,
      "rowLimit": 10000
     },
     "inputWidgets": {},
     "nuid": "44a753c6-2749-4952-a5f3-94924dabf946",
     "showTitle": false,
     "tableResultSettingsMap": {},
     "title": ""
    }
   },
   "outputs": [
    {
     "output_type": "execute_result",
     "data": {
      "text/plain": [
       "True"
      ]
     },
     "execution_count": 2,
     "metadata": {},
     "output_type": "execute_result"
    }
   ],
   "source": [
    "# Configuration dictionary for mounting Azure Data Lake Storage Gen2.\n",
    "configs = {\n",
    "  # Specifies the authentication type as \"CustomAccessToken\", which allows using a token-based approach.\n",
    "  \"fs.azure.account.auth.type\": \"CustomAccessToken\",\n",
    "  # Retrieves the token provider class name from the Databricks Spark configuration.\n",
    "  \"fs.azure.account.custom.token.provider.class\": spark.conf.get(\"spark.databricks.passthrough.adls.gen2.tokenProviderClassName\")\n",
    "}\n",
    "\n",
    "# Mounts the Azure Data Lake Storage Gen2 container to a Databricks file system (DBFS) path.\n",
    "dbutils.fs.mount(\n",
    "  # The source URI specifies the ADLS Gen2 container to be mounted (in this case, the \"bronze\" container).\n",
    "  source = \"abfss://bronze@intechsg24.dfs.core.windows.net/\",\n",
    "  # The local DBFS mount point where the ADLS container will be accessible in Databricks.\n",
    "  mount_point = \"/mnt/bronze\",\n",
    "  # Passes the authentication and configuration details required to mount the storage.\n",
    "  extra_configs = configs\n",
    ")\n"
   ]
  },
  {
   "cell_type": "code",
   "execution_count": 0,
   "metadata": {
    "application/vnd.databricks.v1+cell": {
     "cellMetadata": {
      "byteLimit": 2048000,
      "rowLimit": 10000
     },
     "inputWidgets": {},
     "nuid": "999a0dc9-083c-4351-bdd0-fc1cfe7df47b",
     "showTitle": false,
     "tableResultSettingsMap": {},
     "title": ""
    }
   },
   "outputs": [
    {
     "output_type": "execute_result",
     "data": {
      "text/plain": [
       "True"
      ]
     },
     "execution_count": 4,
     "metadata": {},
     "output_type": "execute_result"
    }
   ],
   "source": [
    "# Configuration dictionary for mounting Azure Data Lake Storage Gen2.\n",
    "configs = {\n",
    "  # Specifies the authentication type as \"CustomAccessToken\", which allows using a token-based approach.\n",
    "  \"fs.azure.account.auth.type\": \"CustomAccessToken\",\n",
    "  # Retrieves the token provider class name from the Databricks Spark configuration.\n",
    "  \"fs.azure.account.custom.token.provider.class\": spark.conf.get(\"spark.databricks.passthrough.adls.gen2.tokenProviderClassName\")\n",
    "}\n",
    "\n",
    "# Mounts the Azure Data Lake Storage Gen2 container to a Databricks file system (DBFS) path.\n",
    "dbutils.fs.mount(\n",
    "  # The source URI specifies the ADLS Gen2 container to be mounted (in this case, the \"bronze\" container).\n",
    "  source = \"abfss://gold@intechsg24.dfs.core.windows.net/\",\n",
    "  # The local DBFS mount point where the ADLS container will be accessible in Databricks.\n",
    "  mount_point = \"/mnt/gold\",\n",
    "  # Passes the authentication and configuration details required to mount the storage.\n",
    "  extra_configs = configs\n",
    ")\n"
   ]
  },
  {
   "cell_type": "code",
   "execution_count": 0,
   "metadata": {
    "application/vnd.databricks.v1+cell": {
     "cellMetadata": {
      "byteLimit": 2048000,
      "rowLimit": 10000
     },
     "inputWidgets": {},
     "nuid": "168a160e-bd3d-4f6e-8dde-4f8d8e90fac1",
     "showTitle": false,
     "tableResultSettingsMap": {},
     "title": ""
    }
   },
   "outputs": [
    {
     "output_type": "execute_result",
     "data": {
      "text/plain": [
       "True"
      ]
     },
     "execution_count": 3,
     "metadata": {},
     "output_type": "execute_result"
    }
   ],
   "source": [
    "# Configuration dictionary for mounting Azure Data Lake Storage Gen2.\n",
    "configs = {\n",
    "  # Specifies the authentication type as \"CustomAccessToken\", which allows using a token-based approach.\n",
    "  \"fs.azure.account.auth.type\": \"CustomAccessToken\",\n",
    "  # Retrieves the token provider class name from the Databricks Spark configuration.\n",
    "  \"fs.azure.account.custom.token.provider.class\": spark.conf.get(\"spark.databricks.passthrough.adls.gen2.tokenProviderClassName\")\n",
    "}\n",
    "\n",
    "# Mounts the Azure Data Lake Storage Gen2 container to a Databricks file system (DBFS) path.\n",
    "dbutils.fs.mount(\n",
    "  # The source URI specifies the ADLS Gen2 container to be mounted (in this case, the \"bronze\" container).\n",
    "  source = \"abfss://silver@intechsg24.dfs.core.windows.net/\",\n",
    "  # The local DBFS mount point where the ADLS container will be accessible in Databricks.\n",
    "  mount_point = \"/mnt/silver\",\n",
    "  # Passes the authentication and configuration details required to mount the storage.\n",
    "  extra_configs = configs\n",
    ")\n"
   ]
  },
  {
   "cell_type": "code",
   "execution_count": 0,
   "metadata": {
    "application/vnd.databricks.v1+cell": {
     "cellMetadata": {
      "byteLimit": 2048000,
      "rowLimit": 10000
     },
     "inputWidgets": {},
     "nuid": "86a474a8-248d-4cd2-9ec0-9e64a0ee3f06",
     "showTitle": false,
     "tableResultSettingsMap": {},
     "title": ""
    }
   },
   "outputs": [
    {
     "output_type": "execute_result",
     "data": {
      "text/plain": [
       "[]"
      ]
     },
     "execution_count": 16,
     "metadata": {},
     "output_type": "execute_result"
    }
   ],
   "source": [
    "dbutils.fs.ls(\"/mnt/silver\")"
   ]
  },
  {
   "cell_type": "code",
   "execution_count": 0,
   "metadata": {
    "application/vnd.databricks.v1+cell": {
     "cellMetadata": {
      "byteLimit": 2048000,
      "rowLimit": 10000
     },
     "inputWidgets": {},
     "nuid": "2042f09a-5e60-48b4-83c2-272c5bff2caf",
     "showTitle": false,
     "tableResultSettingsMap": {},
     "title": ""
    }
   },
   "outputs": [
    {
     "output_type": "execute_result",
     "data": {
      "text/plain": [
       "[FileInfo(path='dbfs:/mnt/bronze/SalesLT/', name='SalesLT/', size=0, modificationTime=1731948795000)]"
      ]
     },
     "execution_count": 18,
     "metadata": {},
     "output_type": "execute_result"
    }
   ],
   "source": [
    "dbutils.fs.ls(\"/mnt/bronze\")"
   ]
  },
  {
   "cell_type": "code",
   "execution_count": 0,
   "metadata": {
    "application/vnd.databricks.v1+cell": {
     "cellMetadata": {
      "byteLimit": 2048000,
      "rowLimit": 10000
     },
     "inputWidgets": {},
     "nuid": "136baa11-701f-401c-b3e9-b4b7231a1eac",
     "showTitle": false,
     "tableResultSettingsMap": {},
     "title": ""
    }
   },
   "outputs": [
    {
     "output_type": "execute_result",
     "data": {
      "text/plain": [
       "[]"
      ]
     },
     "execution_count": 20,
     "metadata": {},
     "output_type": "execute_result"
    }
   ],
   "source": [
    "dbutils.fs.ls(\"/mnt/gold\")"
   ]
  }
 ],
 "metadata": {
  "application/vnd.databricks.v1+notebook": {
   "dashboards": [],
   "environmentMetadata": {
    "base_environment": "",
    "client": "1"
   },
   "language": "python",
   "notebookMetadata": {
    "pythonIndentUnit": 2
   },
   "notebookName": "StorageMount",
   "widgets": {}
  },
  "language_info": {
   "name": "python"
  }
 },
 "nbformat": 4,
 "nbformat_minor": 0
}